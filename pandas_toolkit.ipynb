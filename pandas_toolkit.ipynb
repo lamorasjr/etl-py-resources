{
  "nbformat": 4,
  "nbformat_minor": 0,
  "metadata": {
    "colab": {
      "provenance": [],
      "authorship_tag": "ABX9TyPBl64ijOMIjTJM7jWeDpSc"
    },
    "kernelspec": {
      "name": "python3",
      "display_name": "Python 3"
    },
    "language_info": {
      "name": "python"
    }
  },
  "cells": [
    {
      "cell_type": "markdown",
      "source": [
        "### 0 - Requirements"
      ],
      "metadata": {
        "id": "CFsVFVSW2dUK"
      }
    },
    {
      "cell_type": "code",
      "execution_count": 3,
      "metadata": {
        "id": "C0qhmYh-0lmt"
      },
      "outputs": [],
      "source": [
        "import pandas as pd"
      ]
    },
    {
      "cell_type": "markdown",
      "source": [
        "## 1 - Connect to Data"
      ],
      "metadata": {
        "id": "rfV82IZ71Xj_"
      }
    },
    {
      "cell_type": "markdown",
      "source": [
        "1.1 - Connect to CSV file"
      ],
      "metadata": {
        "id": "9hSolicp2pWu"
      }
    },
    {
      "cell_type": "code",
      "source": [
        "# import pandas as pd\n",
        "\n",
        "# Load CSV file into a Pandas DataFrame\n",
        "csv_file_path = '/content/sample_data/california_housing_test.csv'\n",
        "\n",
        "df_csv = pd.read_csv(csv_file_path)\n",
        "\n",
        "# Display first few rows of the dataframe\n",
        "print(df_csv.head())"
      ],
      "metadata": {
        "colab": {
          "base_uri": "https://localhost:8080/"
        },
        "collapsed": true,
        "id": "jX5ux8_G2agx",
        "outputId": "d64a6350-ab28-40da-f47e-34e0f3b04bf4"
      },
      "execution_count": 5,
      "outputs": [
        {
          "output_type": "stream",
          "name": "stdout",
          "text": [
            "   longitude  latitude  housing_median_age  total_rooms  total_bedrooms  \\\n",
            "0    -122.05     37.37                27.0       3885.0           661.0   \n",
            "1    -118.30     34.26                43.0       1510.0           310.0   \n",
            "2    -117.81     33.78                27.0       3589.0           507.0   \n",
            "3    -118.36     33.82                28.0         67.0            15.0   \n",
            "4    -119.67     36.33                19.0       1241.0           244.0   \n",
            "\n",
            "   population  households  median_income  median_house_value  \n",
            "0      1537.0       606.0         6.6085            344700.0  \n",
            "1       809.0       277.0         3.5990            176500.0  \n",
            "2      1484.0       495.0         5.7934            270500.0  \n",
            "3        49.0        11.0         6.1359            330000.0  \n",
            "4       850.0       237.0         2.9375             81700.0  \n"
          ]
        }
      ]
    },
    {
      "cell_type": "markdown",
      "source": [],
      "metadata": {
        "id": "EcC7pI3xAAUn"
      }
    },
    {
      "cell_type": "markdown",
      "source": [
        "1.2 - Connect to Excel File"
      ],
      "metadata": {
        "id": "isISwV03_iJ9"
      }
    },
    {
      "cell_type": "code",
      "source": [
        "# import pandas as pd\n",
        "\n",
        "# Load Excel file into a Pandas DataFrame\n",
        "excel_file_path = '/content/output_file.xlsx'\n",
        "\n",
        "# You can specify the sheet_name or omit to load the first sheet\n",
        "df_excel = pd.read_excel(excel_file_path, sheet_name='Sheet1')\n",
        "\n",
        "# Display first few rows of the dataframe\n",
        "print(df_excel.head())"
      ],
      "metadata": {
        "id": "y0xaWAY3_oiz",
        "outputId": "bf4525bb-d6fb-4833-fbee-380f998525ef",
        "colab": {
          "base_uri": "https://localhost:8080/"
        }
      },
      "execution_count": 8,
      "outputs": [
        {
          "output_type": "stream",
          "name": "stdout",
          "text": [
            "    Name  Age      City\n",
            "0   John   28  New York\n",
            "1   Anna   24     Paris\n",
            "2  Peter   35    London\n",
            "3  Linda   32    Berlin\n"
          ]
        }
      ]
    },
    {
      "cell_type": "markdown",
      "source": [
        "1.3 - Connect to JSON File"
      ],
      "metadata": {
        "id": "NCmpRdtBAfHz"
      }
    },
    {
      "cell_type": "code",
      "source": [
        "# import pandas as pd\n",
        "\n",
        "# Load JSON file into a Pandas DataFrame\n",
        "json_file_path = '/content/sample_data/anscombe.json'\n",
        "\n",
        "df_json = pd.read_json(json_file_path)\n",
        "\n",
        "# Display first few rows of the dataframe\n",
        "print(df_json.head())"
      ],
      "metadata": {
        "id": "jivi9k-9ApJ1",
        "outputId": "65a9d305-2a41-4d01-e54c-d0cba09dd6b0",
        "colab": {
          "base_uri": "https://localhost:8080/"
        }
      },
      "execution_count": 9,
      "outputs": [
        {
          "output_type": "stream",
          "name": "stdout",
          "text": [
            "  Series   X     Y\n",
            "0      I  10  8.04\n",
            "1      I   8  6.95\n",
            "2      I  13  7.58\n",
            "3      I   9  8.81\n",
            "4      I  11  8.33\n"
          ]
        }
      ]
    },
    {
      "cell_type": "markdown",
      "source": [
        "1.4 - Connect to PostgreSQL Database"
      ],
      "metadata": {
        "id": "IhvCHSfuAzmt"
      }
    },
    {
      "cell_type": "code",
      "source": [
        "# import pandas as pd\n",
        "import psycopg2\n",
        "from sqlalchemy import create_engine\n",
        "\n",
        "# Define your PostgreSQL database credentials\n",
        "host = 'your_host'\n",
        "dbname = 'your_database'\n",
        "user = 'your_username'\n",
        "password = 'your_password'\n",
        "port = 'your_port'  # Default is usually 5432\n",
        "\n",
        "# Create a connection using SQLAlchemy\n",
        "connection_string = f\"postgresql+psycopg2://{user}:{password}@{host}:{port}/{dbname}\"\n",
        "engine = create_engine(connection_string)\n",
        "\n",
        "# Query the database and load it into a Pandas DataFrame\n",
        "query = \"SELECT * FROM your_table\"\n",
        "df_postgres = pd.read_sql(query, con=engine)\n",
        "\n",
        "# Display first few rows of the dataframe\n",
        "print(df_postgres.head())"
      ],
      "metadata": {
        "id": "dRtPUgx8A2pW"
      },
      "execution_count": null,
      "outputs": []
    },
    {
      "cell_type": "markdown",
      "source": [
        "### 2 - Basic Transformations"
      ],
      "metadata": {
        "id": "6wGpMYKp1g7o"
      }
    },
    {
      "cell_type": "markdown",
      "source": [
        "**2.1 - Remove columns**"
      ],
      "metadata": {
        "id": "NeQ4IpjR4OqU"
      }
    },
    {
      "cell_type": "markdown",
      "source": [
        "**2.2 - Remove other columns**"
      ],
      "metadata": {
        "id": "5QUG1-4K4ijs"
      }
    },
    {
      "cell_type": "markdown",
      "source": [
        "**2.3 - Keep top rows**"
      ],
      "metadata": {
        "id": "WRMiWih74n9Y"
      }
    },
    {
      "cell_type": "markdown",
      "source": [
        "Keep bottom rows"
      ],
      "metadata": {
        "id": "S6540VjQ41Mn"
      }
    },
    {
      "cell_type": "markdown",
      "source": [
        "Keep range of rows"
      ],
      "metadata": {
        "id": "qL8fg2aR429Z"
      }
    },
    {
      "cell_type": "code",
      "source": [],
      "metadata": {
        "id": "yBaXDgTy2byB"
      },
      "execution_count": null,
      "outputs": []
    },
    {
      "cell_type": "markdown",
      "source": [
        "### 3. Transform Columns"
      ],
      "metadata": {
        "id": "bV7JULxF1ksF"
      }
    },
    {
      "cell_type": "code",
      "source": [],
      "metadata": {
        "id": "G7UoL2oI2cPa"
      },
      "execution_count": null,
      "outputs": []
    },
    {
      "cell_type": "markdown",
      "source": [
        "### 4. Add Columns"
      ],
      "metadata": {
        "id": "Eh3FQivm1nt6"
      }
    },
    {
      "cell_type": "code",
      "source": [],
      "metadata": {
        "id": "Ao-vokSA1rRi"
      },
      "execution_count": null,
      "outputs": []
    },
    {
      "cell_type": "markdown",
      "source": [
        "Export to Excel"
      ],
      "metadata": {
        "id": "-kwZqwOcAMKv"
      }
    },
    {
      "cell_type": "code",
      "source": [
        "# Sample DataFrame\n",
        "data = {\n",
        "    'Name': ['John', 'Anna', 'Peter', 'Linda'],\n",
        "    'Age': [28, 24, 35, 32],\n",
        "    'City': ['New York', 'Paris', 'London', 'Berlin']\n",
        "}\n",
        "df = pd.DataFrame(data)\n",
        "\n",
        "# Export DataFrame to Excel\n",
        "output_file_path = 'output_file.xlsx'\n",
        "df.to_excel(output_file_path, sheet_name='Sheet1', index=False)  # index=False prevents adding row numbers\n",
        "\n",
        "print(f\"DataFrame has been exported to {output_file_path}\")"
      ],
      "metadata": {
        "id": "Gkyzwb0fAKQO",
        "outputId": "e115c9ed-5b71-4c0b-a882-dafa23d6b32d",
        "colab": {
          "base_uri": "https://localhost:8080/"
        }
      },
      "execution_count": 7,
      "outputs": [
        {
          "output_type": "stream",
          "name": "stdout",
          "text": [
            "DataFrame has been exported to output_file.xlsx\n"
          ]
        }
      ]
    }
  ]
}